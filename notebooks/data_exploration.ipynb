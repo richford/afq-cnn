{
 "cells": [
  {
   "cell_type": "code",
   "execution_count": 1,
   "id": "previous-hepatitis",
   "metadata": {},
   "outputs": [],
   "source": [
    "import pandas as pd\n",
    "import afqinsight as afq\n",
    "import numpy as np"
   ]
  },
  {
   "cell_type": "code",
   "execution_count": 2,
   "id": "continuous-apparel",
   "metadata": {},
   "outputs": [
    {
     "data": {
      "text/html": [
       "<div>\n",
       "<style scoped>\n",
       "    .dataframe tbody tr th:only-of-type {\n",
       "        vertical-align: middle;\n",
       "    }\n",
       "\n",
       "    .dataframe tbody tr th {\n",
       "        vertical-align: top;\n",
       "    }\n",
       "\n",
       "    .dataframe thead th {\n",
       "        text-align: right;\n",
       "    }\n",
       "</style>\n",
       "<table border=\"1\" class=\"dataframe\">\n",
       "  <thead>\n",
       "    <tr style=\"text-align: right;\">\n",
       "      <th></th>\n",
       "      <th>subjectID</th>\n",
       "      <th>tractID</th>\n",
       "      <th>nodeID</th>\n",
       "      <th>rd</th>\n",
       "      <th>fa</th>\n",
       "      <th>cl</th>\n",
       "      <th>ad</th>\n",
       "      <th>md</th>\n",
       "    </tr>\n",
       "  </thead>\n",
       "  <tbody>\n",
       "    <tr>\n",
       "      <th>0</th>\n",
       "      <td>subject_000</td>\n",
       "      <td>Left Thalamic Radiation</td>\n",
       "      <td>0</td>\n",
       "      <td>0.656032</td>\n",
       "      <td>0.183053</td>\n",
       "      <td>0.081921</td>\n",
       "      <td>0.875535</td>\n",
       "      <td>0.729200</td>\n",
       "    </tr>\n",
       "    <tr>\n",
       "      <th>1</th>\n",
       "      <td>subject_000</td>\n",
       "      <td>Left Thalamic Radiation</td>\n",
       "      <td>1</td>\n",
       "      <td>0.613308</td>\n",
       "      <td>0.247121</td>\n",
       "      <td>0.115480</td>\n",
       "      <td>0.909085</td>\n",
       "      <td>0.711901</td>\n",
       "    </tr>\n",
       "    <tr>\n",
       "      <th>2</th>\n",
       "      <td>subject_000</td>\n",
       "      <td>Left Thalamic Radiation</td>\n",
       "      <td>2</td>\n",
       "      <td>0.574612</td>\n",
       "      <td>0.306726</td>\n",
       "      <td>0.151766</td>\n",
       "      <td>0.944572</td>\n",
       "      <td>0.697932</td>\n",
       "    </tr>\n",
       "    <tr>\n",
       "      <th>3</th>\n",
       "      <td>subject_000</td>\n",
       "      <td>Left Thalamic Radiation</td>\n",
       "      <td>3</td>\n",
       "      <td>0.549868</td>\n",
       "      <td>0.343995</td>\n",
       "      <td>0.176124</td>\n",
       "      <td>0.966964</td>\n",
       "      <td>0.688900</td>\n",
       "    </tr>\n",
       "    <tr>\n",
       "      <th>4</th>\n",
       "      <td>subject_000</td>\n",
       "      <td>Left Thalamic Radiation</td>\n",
       "      <td>4</td>\n",
       "      <td>0.530190</td>\n",
       "      <td>0.373869</td>\n",
       "      <td>0.194396</td>\n",
       "      <td>0.985039</td>\n",
       "      <td>0.681806</td>\n",
       "    </tr>\n",
       "  </tbody>\n",
       "</table>\n",
       "</div>"
      ],
      "text/plain": [
       "     subjectID                  tractID  nodeID        rd        fa        cl  \\\n",
       "0  subject_000  Left Thalamic Radiation       0  0.656032  0.183053  0.081921   \n",
       "1  subject_000  Left Thalamic Radiation       1  0.613308  0.247121  0.115480   \n",
       "2  subject_000  Left Thalamic Radiation       2  0.574612  0.306726  0.151766   \n",
       "3  subject_000  Left Thalamic Radiation       3  0.549868  0.343995  0.176124   \n",
       "4  subject_000  Left Thalamic Radiation       4  0.530190  0.373869  0.194396   \n",
       "\n",
       "         ad        md  \n",
       "0  0.875535  0.729200  \n",
       "1  0.909085  0.711901  \n",
       "2  0.944572  0.697932  \n",
       "3  0.966964  0.688900  \n",
       "4  0.985039  0.681806  "
      ]
     },
     "execution_count": 2,
     "metadata": {},
     "output_type": "execute_result"
    }
   ],
   "source": [
    "nodes = pd.read_csv('../data/raw/age_data/nodes.csv')\n",
    "nodes.head()"
   ]
  },
  {
   "cell_type": "code",
   "execution_count": 3,
   "id": "outside-package",
   "metadata": {},
   "outputs": [
    {
     "data": {
      "text/plain": [
       "(2000, 8)"
      ]
     },
     "execution_count": 3,
     "metadata": {},
     "output_type": "execute_result"
    }
   ],
   "source": [
    "nodes[nodes['subjectID']=='subject_000'].shape"
   ]
  },
  {
   "cell_type": "code",
   "execution_count": 4,
   "id": "heavy-collaboration",
   "metadata": {},
   "outputs": [
    {
     "data": {
      "text/html": [
       "<div>\n",
       "<style scoped>\n",
       "    .dataframe tbody tr th:only-of-type {\n",
       "        vertical-align: middle;\n",
       "    }\n",
       "\n",
       "    .dataframe tbody tr th {\n",
       "        vertical-align: top;\n",
       "    }\n",
       "\n",
       "    .dataframe thead th {\n",
       "        text-align: right;\n",
       "    }\n",
       "</style>\n",
       "<table border=\"1\" class=\"dataframe\">\n",
       "  <thead>\n",
       "    <tr style=\"text-align: right;\">\n",
       "      <th></th>\n",
       "      <th>Unnamed: 0</th>\n",
       "      <th>subjectID</th>\n",
       "      <th>Age</th>\n",
       "      <th>Gender</th>\n",
       "      <th>Handedness</th>\n",
       "      <th>IQ</th>\n",
       "      <th>IQ_Matrix</th>\n",
       "      <th>IQ_Vocab</th>\n",
       "    </tr>\n",
       "  </thead>\n",
       "  <tbody>\n",
       "    <tr>\n",
       "      <th>0</th>\n",
       "      <td>0</td>\n",
       "      <td>subject_000</td>\n",
       "      <td>20</td>\n",
       "      <td>Male</td>\n",
       "      <td>NaN</td>\n",
       "      <td>139.0</td>\n",
       "      <td>65.0</td>\n",
       "      <td>77.0</td>\n",
       "    </tr>\n",
       "    <tr>\n",
       "      <th>1</th>\n",
       "      <td>1</td>\n",
       "      <td>subject_001</td>\n",
       "      <td>31</td>\n",
       "      <td>Male</td>\n",
       "      <td>NaN</td>\n",
       "      <td>129.0</td>\n",
       "      <td>58.0</td>\n",
       "      <td>74.0</td>\n",
       "    </tr>\n",
       "    <tr>\n",
       "      <th>2</th>\n",
       "      <td>2</td>\n",
       "      <td>subject_002</td>\n",
       "      <td>18</td>\n",
       "      <td>Female</td>\n",
       "      <td>NaN</td>\n",
       "      <td>130.0</td>\n",
       "      <td>63.0</td>\n",
       "      <td>70.0</td>\n",
       "    </tr>\n",
       "    <tr>\n",
       "      <th>3</th>\n",
       "      <td>3</td>\n",
       "      <td>subject_003</td>\n",
       "      <td>28</td>\n",
       "      <td>Male</td>\n",
       "      <td>Right</td>\n",
       "      <td>NaN</td>\n",
       "      <td>NaN</td>\n",
       "      <td>NaN</td>\n",
       "    </tr>\n",
       "    <tr>\n",
       "      <th>4</th>\n",
       "      <td>4</td>\n",
       "      <td>subject_004</td>\n",
       "      <td>29</td>\n",
       "      <td>Male</td>\n",
       "      <td>NaN</td>\n",
       "      <td>NaN</td>\n",
       "      <td>NaN</td>\n",
       "      <td>NaN</td>\n",
       "    </tr>\n",
       "  </tbody>\n",
       "</table>\n",
       "</div>"
      ],
      "text/plain": [
       "   Unnamed: 0    subjectID  Age  Gender Handedness     IQ  IQ_Matrix  IQ_Vocab\n",
       "0           0  subject_000   20    Male        NaN  139.0       65.0      77.0\n",
       "1           1  subject_001   31    Male        NaN  129.0       58.0      74.0\n",
       "2           2  subject_002   18  Female        NaN  130.0       63.0      70.0\n",
       "3           3  subject_003   28    Male      Right    NaN        NaN       NaN\n",
       "4           4  subject_004   29    Male        NaN    NaN        NaN       NaN"
      ]
     },
     "execution_count": 4,
     "metadata": {},
     "output_type": "execute_result"
    }
   ],
   "source": [
    "subjects = pd.read_csv('../data/raw/age_data/subjects.csv')\n",
    "subjects.head()"
   ]
  },
  {
   "cell_type": "code",
   "execution_count": 5,
   "id": "loving-tobago",
   "metadata": {},
   "outputs": [],
   "source": [
    "X, y, groups, feature_names, group_names, subjects, _ = afq.datasets.load_afq_data('../data/raw/age_data', \"Age\")"
   ]
  },
  {
   "cell_type": "code",
   "execution_count": 6,
   "id": "documented-murray",
   "metadata": {},
   "outputs": [
    {
     "data": {
      "text/plain": [
       "array([20, 31, 18, 28, 29, 36, 39, 34, 24, 21, 29, 31, 28, 20, 21, 20, 31,\n",
       "       32, 12, 14, 13, 12, 12, 11,  9, 14,  8, 10,  7,  8, 11, 11, 21,  9,\n",
       "       24,  8,  8, 14, 10, 14,  7,  8,  9,  8,  8, 11,  6,  9,  8,  9, 32,\n",
       "       16,  9,  9,  8, 15,  9, 10,  9,  8,  9, 24, 24,  9,  9, 43, 13, 44,\n",
       "       50, 47, 46, 18, 40, 50, 40, 17, 17])"
      ]
     },
     "execution_count": 6,
     "metadata": {},
     "output_type": "execute_result"
    }
   ],
   "source": [
    "y"
   ]
  },
  {
   "cell_type": "code",
   "execution_count": 7,
   "id": "weird-repair",
   "metadata": {},
   "outputs": [
    {
     "data": {
      "text/plain": [
       "(10000,)"
      ]
     },
     "execution_count": 7,
     "metadata": {},
     "output_type": "execute_result"
    }
   ],
   "source": [
    "X[1].shape"
   ]
  },
  {
   "cell_type": "code",
   "execution_count": 8,
   "id": "lucky-special",
   "metadata": {},
   "outputs": [
    {
     "data": {
      "text/plain": [
       "(77, 10000)"
      ]
     },
     "execution_count": 8,
     "metadata": {},
     "output_type": "execute_result"
    }
   ],
   "source": [
    "X.shape\n",
    "# 77 subjects\n",
    "# columns are fa and md (2000 instances of each subject)"
   ]
  },
  {
   "cell_type": "code",
   "execution_count": 9,
   "id": "reliable-bride",
   "metadata": {},
   "outputs": [
    {
     "data": {
      "text/plain": [
       "array([20, 31, 18, 28, 29, 36, 39, 34, 24, 21, 29, 31, 28, 20, 21, 20, 31,\n",
       "       32, 12, 14, 13, 12, 12, 11,  9, 14,  8, 10,  7,  8, 11, 11, 21,  9,\n",
       "       24,  8,  8, 14, 10, 14,  7,  8,  9,  8,  8, 11,  6,  9,  8,  9, 32,\n",
       "       16,  9,  9,  8, 15,  9, 10,  9,  8,  9, 24, 24,  9,  9, 43, 13, 44,\n",
       "       50, 47, 46, 18, 40, 50, 40, 17, 17])"
      ]
     },
     "execution_count": 9,
     "metadata": {},
     "output_type": "execute_result"
    }
   ],
   "source": [
    "y # age"
   ]
  },
  {
   "cell_type": "code",
   "execution_count": 10,
   "id": "respiratory-backing",
   "metadata": {},
   "outputs": [],
   "source": [
    "from sklearn.linear_model import LassoCV\n",
    "from sklearn.pipeline import Pipeline\n",
    "from sklearn.impute import SimpleImputer\n",
    "from sklearn.model_selection import cross_val_score, train_test_split\n",
    "from groupyr.transform import GroupExtractor\n",
    "from sklearn.ensemble import RandomForestRegressor, AdaBoostRegressor\n",
    "import sklearn.metrics"
   ]
  },
  {
   "cell_type": "code",
   "execution_count": 11,
   "id": "raising-banks",
   "metadata": {},
   "outputs": [
    {
     "data": {
      "text/plain": [
       "(77, 4000)"
      ]
     },
     "execution_count": 11,
     "metadata": {},
     "output_type": "execute_result"
    }
   ],
   "source": [
    "group_extractor = GroupExtractor(select=['fa', 'md'], groups=groups, group_names=group_names)\n",
    "X = group_extractor.fit_transform(X)\n",
    "X.shape"
   ]
  },
  {
   "cell_type": "code",
   "execution_count": 12,
   "id": "derived-treasurer",
   "metadata": {},
   "outputs": [],
   "source": [
    "X_train, X_test, y_train, y_test = train_test_split(X, y)\n",
    "#X"
   ]
  },
  {
   "cell_type": "code",
   "execution_count": 13,
   "id": "welcome-cardiff",
   "metadata": {},
   "outputs": [
    {
     "data": {
      "text/plain": [
       "(57, 4000)"
      ]
     },
     "execution_count": 13,
     "metadata": {},
     "output_type": "execute_result"
    }
   ],
   "source": [
    "X_train.shape"
   ]
  },
  {
   "cell_type": "markdown",
   "id": "packed-accent",
   "metadata": {},
   "source": [
    "### Lasso"
   ]
  },
  {
   "cell_type": "code",
   "execution_count": 14,
   "id": "hungry-sierra",
   "metadata": {},
   "outputs": [
    {
     "name": "stderr",
     "output_type": "stream",
     "text": [
      "/Users/ceciliabarnes/opt/anaconda3/envs/direct_cnn/lib/python3.8/site-packages/sklearn/linear_model/_coordinate_descent.py:529: ConvergenceWarning: Objective did not converge. You might want to increase the number of iterations. Duality gap: 0.862006341088998, tolerance: 0.8132577777777779\n",
      "  model = cd_fast.enet_coordinate_descent(\n",
      "/Users/ceciliabarnes/opt/anaconda3/envs/direct_cnn/lib/python3.8/site-packages/sklearn/linear_model/_coordinate_descent.py:529: ConvergenceWarning: Objective did not converge. You might want to increase the number of iterations. Duality gap: 1.122143217572681, tolerance: 0.7102\n",
      "  model = cd_fast.enet_coordinate_descent(\n"
     ]
    },
    {
     "data": {
      "text/plain": [
       "-0.0946233225741604"
      ]
     },
     "execution_count": 14,
     "metadata": {},
     "output_type": "execute_result"
    }
   ],
   "source": [
    "pipeline = Pipeline([('impute', SimpleImputer(strategy='median')),('estimator', LassoCV(n_alphas=5))])\n",
    "pipeline.fit(X_train, y_train)\n",
    "pipeline.score(X_test, y_test)"
   ]
  },
  {
   "cell_type": "code",
   "execution_count": 15,
   "id": "thorough-hospital",
   "metadata": {},
   "outputs": [
    {
     "name": "stderr",
     "output_type": "stream",
     "text": [
      "/Users/ceciliabarnes/opt/anaconda3/envs/direct_cnn/lib/python3.8/site-packages/sklearn/linear_model/_coordinate_descent.py:529: ConvergenceWarning: Objective did not converge. You might want to increase the number of iterations. Duality gap: 0.8651511819537863, tolerance: 0.865125\n",
      "  model = cd_fast.enet_coordinate_descent(\n",
      "/Users/ceciliabarnes/opt/anaconda3/envs/direct_cnn/lib/python3.8/site-packages/sklearn/linear_model/_coordinate_descent.py:529: ConvergenceWarning: Objective did not converge. You might want to increase the number of iterations. Duality gap: 0.9857456835367966, tolerance: 0.8480775510204082\n",
      "  model = cd_fast.enet_coordinate_descent(\n",
      "/Users/ceciliabarnes/opt/anaconda3/envs/direct_cnn/lib/python3.8/site-packages/sklearn/linear_model/_coordinate_descent.py:529: ConvergenceWarning: Objective did not converge. You might want to increase the number of iterations. Duality gap: 0.38953400583073616, tolerance: 0.20793877551020407\n",
      "  model = cd_fast.enet_coordinate_descent(\n",
      "/Users/ceciliabarnes/opt/anaconda3/envs/direct_cnn/lib/python3.8/site-packages/sklearn/linear_model/_coordinate_descent.py:529: ConvergenceWarning: Objective did not converge. You might want to increase the number of iterations. Duality gap: 0.9600907783945054, tolerance: 0.8473479166666669\n",
      "  model = cd_fast.enet_coordinate_descent(\n",
      "/Users/ceciliabarnes/opt/anaconda3/envs/direct_cnn/lib/python3.8/site-packages/sklearn/linear_model/_coordinate_descent.py:529: ConvergenceWarning: Objective did not converge. You might want to increase the number of iterations. Duality gap: 1.8907493282009646, tolerance: 0.8130408163265307\n",
      "  model = cd_fast.enet_coordinate_descent(\n",
      "/Users/ceciliabarnes/opt/anaconda3/envs/direct_cnn/lib/python3.8/site-packages/sklearn/linear_model/_coordinate_descent.py:529: ConvergenceWarning: Objective did not converge. You might want to increase the number of iterations. Duality gap: 0.9307358994375718, tolerance: 0.800602\n",
      "  model = cd_fast.enet_coordinate_descent(\n",
      "/Users/ceciliabarnes/opt/anaconda3/envs/direct_cnn/lib/python3.8/site-packages/sklearn/linear_model/_coordinate_descent.py:529: ConvergenceWarning: Objective did not converge. You might want to increase the number of iterations. Duality gap: 0.8963184461093974, tolerance: 0.825192\n",
      "  model = cd_fast.enet_coordinate_descent(\n",
      "/Users/ceciliabarnes/opt/anaconda3/envs/direct_cnn/lib/python3.8/site-packages/sklearn/linear_model/_coordinate_descent.py:529: ConvergenceWarning: Objective did not converge. You might want to increase the number of iterations. Duality gap: 0.36696209855371054, tolerance: 0.21050612244897962\n",
      "  model = cd_fast.enet_coordinate_descent(\n",
      "/Users/ceciliabarnes/opt/anaconda3/envs/direct_cnn/lib/python3.8/site-packages/sklearn/linear_model/_coordinate_descent.py:529: ConvergenceWarning: Objective did not converge. You might want to increase the number of iterations. Duality gap: 0.7749745616494792, tolerance: 0.4435680000000001\n",
      "  model = cd_fast.enet_coordinate_descent(\n"
     ]
    },
    {
     "data": {
      "text/plain": [
       "array([-0.32016338,  0.01782182, -2.92530516, -0.5624851 , -0.0597728 ])"
      ]
     },
     "execution_count": 15,
     "metadata": {},
     "output_type": "execute_result"
    }
   ],
   "source": [
    "cross_val_score(pipeline, X, y)"
   ]
  },
  {
   "cell_type": "markdown",
   "id": "crude-penny",
   "metadata": {},
   "source": [
    "### Random Forest"
   ]
  },
  {
   "cell_type": "code",
   "execution_count": 16,
   "id": "everyday-remove",
   "metadata": {},
   "outputs": [
    {
     "name": "stdout",
     "output_type": "stream",
     "text": [
      "Score:  0.9144113972115762\n",
      "Cross Validation Scores:  [-0.26773804  0.52820037 -0.75963549 -0.31225389 -0.15737681]\n"
     ]
    }
   ],
   "source": [
    "np.random.seed(200)\n",
    "n_estimator = 100\n",
    "depth = 3\n",
    "pipeline = Pipeline([('impute', SimpleImputer(strategy='median')),\n",
    "                     ('estimator', RandomForestRegressor(n_estimators=n_estimator, max_depth=depth))])\n",
    "pipeline.fit(X, y)\n",
    "print(\"Score: \", pipeline.score(X, y))\n",
    "print(\"Cross Validation Scores: \", cross_val_score(pipeline, X, y))"
   ]
  },
  {
   "cell_type": "code",
   "execution_count": 17,
   "id": "grand-blocking",
   "metadata": {},
   "outputs": [
    {
     "name": "stdout",
     "output_type": "stream",
     "text": [
      "Score:  0.9323984937461852\n",
      "Cross Validation Scores:  [-0.29781577  0.52316644 -0.9195483  -0.36205744 -0.1532359 ]\n"
     ]
    }
   ],
   "source": [
    "np.random.seed(200)\n",
    "n_estimator = 100\n",
    "depth = 5\n",
    "pipeline = Pipeline([('impute', SimpleImputer(strategy='median')),\n",
    "                     ('estimator', RandomForestRegressor(n_estimators=n_estimator, max_depth=depth))])\n",
    "pipeline.fit(X, y)\n",
    "print(\"Score: \", pipeline.score(X, y))\n",
    "print(\"Cross Validation Scores: \", cross_val_score(pipeline, X, y))"
   ]
  },
  {
   "cell_type": "code",
   "execution_count": 18,
   "id": "complimentary-person",
   "metadata": {},
   "outputs": [
    {
     "name": "stdout",
     "output_type": "stream",
     "text": [
      "Score:  0.9204124125366833\n",
      "Cross Validation Scores:  [-0.41366517  0.41674129 -1.05841284 -0.20583871 -0.12960692]\n"
     ]
    }
   ],
   "source": [
    "np.random.seed(200)\n",
    "n_estimator = 200\n",
    "depth = 3\n",
    "pipeline = Pipeline([('impute', SimpleImputer(strategy='median')),\n",
    "                     ('estimator', RandomForestRegressor(n_estimators=n_estimator, max_depth=depth))])\n",
    "pipeline.fit(X, y)\n",
    "print(\"Score: \", pipeline.score(X, y))\n",
    "print(\"Cross Validation Scores: \", cross_val_score(pipeline, X, y))"
   ]
  },
  {
   "cell_type": "markdown",
   "id": "comic-grant",
   "metadata": {},
   "source": [
    "### Adaboost"
   ]
  },
  {
   "cell_type": "code",
   "execution_count": 19,
   "id": "attempted-television",
   "metadata": {},
   "outputs": [
    {
     "data": {
      "text/plain": [
       "0.98312348469008"
      ]
     },
     "execution_count": 19,
     "metadata": {},
     "output_type": "execute_result"
    }
   ],
   "source": [
    "pipeline = Pipeline([('impute', SimpleImputer(strategy='median')),('estimator', AdaBoostRegressor())])\n",
    "pipeline.fit(X, y)\n",
    "pipeline.score(X, y)"
   ]
  },
  {
   "cell_type": "code",
   "execution_count": 20,
   "id": "turned-click",
   "metadata": {},
   "outputs": [
    {
     "data": {
      "text/plain": [
       "array([-0.97534604,  0.50960098, -0.6507859 , -0.14416439, -0.13122629])"
      ]
     },
     "execution_count": 20,
     "metadata": {},
     "output_type": "execute_result"
    }
   ],
   "source": [
    "cross_val_score(pipeline, X, y)"
   ]
  },
  {
   "cell_type": "markdown",
   "id": "iraqi-heritage",
   "metadata": {},
   "source": [
    "## CNN"
   ]
  },
  {
   "cell_type": "code",
   "execution_count": 21,
   "id": "selected-detector",
   "metadata": {},
   "outputs": [],
   "source": [
    "import matplotlib.pyplot as plt\n",
    "from sklearn.preprocessing import OneHotEncoder"
   ]
  },
  {
   "cell_type": "markdown",
   "id": "rising-seafood",
   "metadata": {},
   "source": [
    "#### Messing around with data"
   ]
  },
  {
   "cell_type": "code",
   "execution_count": 22,
   "id": "covered-change",
   "metadata": {},
   "outputs": [
    {
     "data": {
      "text/plain": [
       "array([[0.21357297, 0.2898142 , 0.34087688, ..., 0.70245914, 0.70967451,\n",
       "        0.73665818],\n",
       "       [0.19058299, 0.2721342 , 0.32055065, ..., 0.72820305, 0.73652069,\n",
       "        0.73947076],\n",
       "       [0.24233305, 0.30895163, 0.37506668, ..., 0.70167013, 0.70817548,\n",
       "        0.71672209],\n",
       "       ...,\n",
       "       [0.18992911, 0.24986252, 0.27899307, ..., 0.68931342, 0.69524343,\n",
       "        0.70089865],\n",
       "       [0.24526717, 0.31377051, 0.36500822, ..., 0.73162777, 0.73706813,\n",
       "        0.73935197],\n",
       "       [0.20669057, 0.2846074 , 0.33341608, ..., 0.72049506, 0.73640573,\n",
       "        0.76009836]])"
      ]
     },
     "execution_count": 22,
     "metadata": {},
     "output_type": "execute_result"
    }
   ],
   "source": [
    "X\n",
    "# each row is a subject - 77 subjects\n",
    "# columns are fa and md (2000 instances of each subject)"
   ]
  },
  {
   "cell_type": "code",
   "execution_count": 23,
   "id": "laden-giving",
   "metadata": {},
   "outputs": [
    {
     "data": {
      "text/plain": [
       "array([[0.21357297, 0.19058299, 0.24233305, ..., 0.18992911, 0.24526717,\n",
       "        0.20669057],\n",
       "       [0.2898142 , 0.2721342 , 0.30895163, ..., 0.24986252, 0.31377051,\n",
       "        0.2846074 ],\n",
       "       [0.34087688, 0.32055065, 0.37506668, ..., 0.27899307, 0.36500822,\n",
       "        0.33341608],\n",
       "       ...,\n",
       "       [0.32112368, 0.3749538 , 0.3679477 , ..., 0.30355528, 0.32224186,\n",
       "        0.37106158],\n",
       "       [0.28187558, 0.29489586, 0.29894718, ..., 0.25497281, 0.28430634,\n",
       "        0.28909158],\n",
       "       [0.21291448, 0.20736275, 0.22126078, ..., 0.18431058, 0.2191056 ,\n",
       "        0.19277788]])"
      ]
     },
     "execution_count": 23,
     "metadata": {},
     "output_type": "execute_result"
    }
   ],
   "source": [
    "X[:, :100].T\n",
    "# each column is a subject - 77 subjects\n",
    "# rows are fa and md (2000 instances of each subject)"
   ]
  },
  {
   "cell_type": "code",
   "execution_count": 24,
   "id": "amended-contract",
   "metadata": {},
   "outputs": [
    {
     "data": {
      "image/png": "[encoded data removed]",
      "text/plain": [
       "<Figure size 432x288 with 1 Axes>"
      ]
     },
     "metadata": {
      "needs_background": "light"
     },
     "output_type": "display_data"
    }
   ],
   "source": [
    "# each line is one subject\n",
    "_ = plt.plot(X[:, :100].T)"
   ]
  },
  {
   "cell_type": "code",
   "execution_count": 25,
   "id": "appreciated-birth",
   "metadata": {},
   "outputs": [
    {
     "data": {
      "image/png": "[encoded data removed]",
      "text/plain": [
       "<Figure size 432x288 with 1 Axes>"
      ]
     },
     "metadata": {
      "needs_background": "light"
     },
     "output_type": "display_data"
    }
   ],
   "source": [
    "_ = plt.plot(X[:, :200].T)"
   ]
  },
  {
   "cell_type": "code",
   "execution_count": 26,
   "id": "backed-incident",
   "metadata": {},
   "outputs": [
    {
     "data": {
      "image/png": "[encoded data removed]",
      "text/plain": [
       "<Figure size 432x288 with 1 Axes>"
      ]
     },
     "metadata": {
      "needs_background": "light"
     },
     "output_type": "display_data"
    }
   ],
   "source": [
    "_ = plt.plot(X[:1, :200].T)"
   ]
  },
  {
   "cell_type": "code",
   "execution_count": 27,
   "id": "collaborative-alert",
   "metadata": {},
   "outputs": [
    {
     "data": {
      "text/plain": [
       "array([0., 0., 0., 0., 0., 0., 0., 0., 0., 0., 0., 0., 0., 0., 0., 0., 0.,\n",
       "       0., 0., 0., 0., 0., 0., 0., 0., 0., 0., 0., 0., 0., 0., 0., 0., 0.,\n",
       "       0., 0., 0., 0., 0., 0., 0., 0., 0., 0., 0., 0., 0., 0., 0., 0., 0.,\n",
       "       0., 0., 0., 0., 0., 0., 0., 0., 0., 0., 0., 0., 0., 0., 0., 0., 0.,\n",
       "       0., 0., 0., 0., 0., 0., 0., 0., 0., 0., 0., 0., 0., 0., 0., 0., 0.,\n",
       "       0., 0., 0., 0., 0., 0., 0., 0., 0., 0., 0., 0., 0., 0., 0., 0., 0.,\n",
       "       0., 0., 0., 0., 0., 0., 0., 0., 0., 0., 0., 0., 0., 0., 0., 0., 0.,\n",
       "       0., 0., 0., 0., 0., 0., 0., 0., 0., 0., 0., 0., 0., 0., 0., 0., 0.,\n",
       "       0., 0., 0., 0., 0., 0., 0., 0., 0., 0., 0., 0., 0., 0., 0., 0., 0.,\n",
       "       0., 0., 0., 0., 0., 0., 0., 0., 0., 0., 0., 0., 0., 0., 0., 0., 0.,\n",
       "       0., 0., 0., 0., 0., 0., 0., 0., 0., 0., 0., 0., 0., 0., 0., 0., 0.,\n",
       "       0., 0., 0., 0., 0., 0., 0., 0., 0., 0., 0., 0., 0., 0., 0.])"
      ]
     },
     "execution_count": 27,
     "metadata": {},
     "output_type": "execute_result"
    }
   ],
   "source": [
    "kernel = np.array([1,1,1])\n",
    "result = np.zeros(202)\n",
    "result"
   ]
  },
  {
   "cell_type": "code",
   "execution_count": 28,
   "id": "contemporary-suicide",
   "metadata": {},
   "outputs": [
    {
     "data": {
      "text/plain": [
       "0.8442640498589999"
      ]
     },
     "execution_count": 28,
     "metadata": {},
     "output_type": "execute_result"
    }
   ],
   "source": [
    "result[1] = np.dot(kernel, X[0, 0:3])\n",
    "result[1]"
   ]
  },
  {
   "cell_type": "code",
   "execution_count": 29,
   "id": "compatible-polls",
   "metadata": {},
   "outputs": [
    {
     "data": {
      "text/plain": [
       "0.8442640498589999"
      ]
     },
     "execution_count": 29,
     "metadata": {},
     "output_type": "execute_result"
    }
   ],
   "source": [
    "np.dot(kernel, X[0, 0:3])"
   ]
  },
  {
   "cell_type": "markdown",
   "id": "super-proposal",
   "metadata": {},
   "source": [
    "#### getting X into correct shape for CNN"
   ]
  },
  {
   "cell_type": "code",
   "execution_count": 30,
   "id": "lesser-space",
   "metadata": {},
   "outputs": [
    {
     "data": {
      "text/plain": [
       "(202,)"
      ]
     },
     "execution_count": 30,
     "metadata": {},
     "output_type": "execute_result"
    }
   ],
   "source": [
    "x = np.convolve(X[0, :200], kernel)\n",
    "x.shape"
   ]
  },
  {
   "cell_type": "code",
   "execution_count": 31,
   "id": "recognized-steering",
   "metadata": {},
   "outputs": [
    {
     "data": {
      "image/png": "[encoded data removed]",
      "text/plain": [
       "<Figure size 432x288 with 1 Axes>"
      ]
     },
     "metadata": {
      "needs_background": "light"
     },
     "output_type": "display_data"
    }
   ],
   "source": [
    "_ = plt.plot(X[:1, :200].T)\n",
    "_ = plt.plot(x/3)"
   ]
  },
  {
   "cell_type": "code",
   "execution_count": 32,
   "id": "joined-burning",
   "metadata": {},
   "outputs": [
    {
     "data": {
      "text/plain": [
       "(100, 40)"
      ]
     },
     "execution_count": 32,
     "metadata": {},
     "output_type": "execute_result"
    }
   ],
   "source": [
    "# transpose so that channels are last\n",
    "new_x = X[0].reshape((40,100)).T\n",
    "new_x.shape"
   ]
  },
  {
   "cell_type": "code",
   "execution_count": 33,
   "id": "entertaining-representation",
   "metadata": {},
   "outputs": [
    {
     "data": {
      "text/plain": [
       "(4000,)"
      ]
     },
     "execution_count": 33,
     "metadata": {},
     "output_type": "execute_result"
    }
   ],
   "source": [
    "X[0].shape"
   ]
  },
  {
   "cell_type": "code",
   "execution_count": 34,
   "id": "suburban-clearance",
   "metadata": {},
   "outputs": [],
   "source": [
    "X_channels = np.swapaxes(X.reshape((77, 40, 100)), 1, 2)"
   ]
  },
  {
   "cell_type": "code",
   "execution_count": 35,
   "id": "recognized-nutrition",
   "metadata": {},
   "outputs": [
    {
     "data": {
      "text/plain": [
       "(100, 40)"
      ]
     },
     "execution_count": 35,
     "metadata": {},
     "output_type": "execute_result"
    }
   ],
   "source": [
    "X_channels.shape[1:]"
   ]
  },
  {
   "cell_type": "code",
   "execution_count": 36,
   "id": "worst-investigation",
   "metadata": {},
   "outputs": [
    {
     "data": {
      "text/plain": [
       "True"
      ]
     },
     "execution_count": 36,
     "metadata": {},
     "output_type": "execute_result"
    }
   ],
   "source": [
    "np.allclose(X[0,:100], X_channels[0,:,0])"
   ]
  },
  {
   "cell_type": "markdown",
   "id": "accessory-highlight",
   "metadata": {},
   "source": [
    "## Keras "
   ]
  },
  {
   "cell_type": "code",
   "execution_count": 37,
   "id": "lovely-database",
   "metadata": {},
   "outputs": [],
   "source": [
    "from keras.models import Sequential\n",
    "from keras.layers import Dense, Conv1D, Flatten, MaxPool1D, MaxPooling1D, Dropout\n",
    "from keras.callbacks import EarlyStopping\n",
    "from sklearn.impute import SimpleImputer"
   ]
  },
  {
   "cell_type": "code",
   "execution_count": 38,
   "id": "severe-monster",
   "metadata": {},
   "outputs": [
    {
     "data": {
      "text/plain": [
       "[('ad', 'Callosum Forceps Major'),\n",
       " ('ad', 'Callosum Forceps Minor'),\n",
       " ('ad', 'Left Arcuate'),\n",
       " ('ad', 'Left Cingulum Cingulate'),\n",
       " ('ad', 'Left Cingulum Hippocampus'),\n",
       " ('ad', 'Left Corticospinal'),\n",
       " ('ad', 'Left IFOF'),\n",
       " ('ad', 'Left ILF'),\n",
       " ('ad', 'Left SLF'),\n",
       " ('ad', 'Left Thalamic Radiation'),\n",
       " ('ad', 'Left Uncinate'),\n",
       " ('ad', 'Right Arcuate'),\n",
       " ('ad', 'Right Cingulum Cingulate'),\n",
       " ('ad', 'Right Cingulum Hippocampus'),\n",
       " ('ad', 'Right Corticospinal'),\n",
       " ('ad', 'Right IFOF'),\n",
       " ('ad', 'Right ILF'),\n",
       " ('ad', 'Right SLF'),\n",
       " ('ad', 'Right Thalamic Radiation'),\n",
       " ('ad', 'Right Uncinate'),\n",
       " ('cl', 'Callosum Forceps Major'),\n",
       " ('cl', 'Callosum Forceps Minor'),\n",
       " ('cl', 'Left Arcuate'),\n",
       " ('cl', 'Left Cingulum Cingulate'),\n",
       " ('cl', 'Left Cingulum Hippocampus'),\n",
       " ('cl', 'Left Corticospinal'),\n",
       " ('cl', 'Left IFOF'),\n",
       " ('cl', 'Left ILF'),\n",
       " ('cl', 'Left SLF'),\n",
       " ('cl', 'Left Thalamic Radiation'),\n",
       " ('cl', 'Left Uncinate'),\n",
       " ('cl', 'Right Arcuate'),\n",
       " ('cl', 'Right Cingulum Cingulate'),\n",
       " ('cl', 'Right Cingulum Hippocampus'),\n",
       " ('cl', 'Right Corticospinal'),\n",
       " ('cl', 'Right IFOF'),\n",
       " ('cl', 'Right ILF'),\n",
       " ('cl', 'Right SLF'),\n",
       " ('cl', 'Right Thalamic Radiation'),\n",
       " ('cl', 'Right Uncinate'),\n",
       " ('fa', 'Callosum Forceps Major'),\n",
       " ('fa', 'Callosum Forceps Minor'),\n",
       " ('fa', 'Left Arcuate'),\n",
       " ('fa', 'Left Cingulum Cingulate'),\n",
       " ('fa', 'Left Cingulum Hippocampus'),\n",
       " ('fa', 'Left Corticospinal'),\n",
       " ('fa', 'Left IFOF'),\n",
       " ('fa', 'Left ILF'),\n",
       " ('fa', 'Left SLF'),\n",
       " ('fa', 'Left Thalamic Radiation'),\n",
       " ('fa', 'Left Uncinate'),\n",
       " ('fa', 'Right Arcuate'),\n",
       " ('fa', 'Right Cingulum Cingulate'),\n",
       " ('fa', 'Right Cingulum Hippocampus'),\n",
       " ('fa', 'Right Corticospinal'),\n",
       " ('fa', 'Right IFOF'),\n",
       " ('fa', 'Right ILF'),\n",
       " ('fa', 'Right SLF'),\n",
       " ('fa', 'Right Thalamic Radiation'),\n",
       " ('fa', 'Right Uncinate'),\n",
       " ('md', 'Callosum Forceps Major'),\n",
       " ('md', 'Callosum Forceps Minor'),\n",
       " ('md', 'Left Arcuate'),\n",
       " ('md', 'Left Cingulum Cingulate'),\n",
       " ('md', 'Left Cingulum Hippocampus'),\n",
       " ('md', 'Left Corticospinal'),\n",
       " ('md', 'Left IFOF'),\n",
       " ('md', 'Left ILF'),\n",
       " ('md', 'Left SLF'),\n",
       " ('md', 'Left Thalamic Radiation'),\n",
       " ('md', 'Left Uncinate'),\n",
       " ('md', 'Right Arcuate'),\n",
       " ('md', 'Right Cingulum Cingulate'),\n",
       " ('md', 'Right Cingulum Hippocampus'),\n",
       " ('md', 'Right Corticospinal'),\n",
       " ('md', 'Right IFOF'),\n",
       " ('md', 'Right ILF'),\n",
       " ('md', 'Right SLF'),\n",
       " ('md', 'Right Thalamic Radiation'),\n",
       " ('md', 'Right Uncinate'),\n",
       " ('rd', 'Callosum Forceps Major'),\n",
       " ('rd', 'Callosum Forceps Minor'),\n",
       " ('rd', 'Left Arcuate'),\n",
       " ('rd', 'Left Cingulum Cingulate'),\n",
       " ('rd', 'Left Cingulum Hippocampus'),\n",
       " ('rd', 'Left Corticospinal'),\n",
       " ('rd', 'Left IFOF'),\n",
       " ('rd', 'Left ILF'),\n",
       " ('rd', 'Left SLF'),\n",
       " ('rd', 'Left Thalamic Radiation'),\n",
       " ('rd', 'Left Uncinate'),\n",
       " ('rd', 'Right Arcuate'),\n",
       " ('rd', 'Right Cingulum Cingulate'),\n",
       " ('rd', 'Right Cingulum Hippocampus'),\n",
       " ('rd', 'Right Corticospinal'),\n",
       " ('rd', 'Right IFOF'),\n",
       " ('rd', 'Right ILF'),\n",
       " ('rd', 'Right SLF'),\n",
       " ('rd', 'Right Thalamic Radiation'),\n",
       " ('rd', 'Right Uncinate')]"
      ]
     },
     "execution_count": 38,
     "metadata": {},
     "output_type": "execute_result"
    }
   ],
   "source": [
    "#group_names = [g for g in group_names if g[0] in ['md', 'fa']]\n",
    "#print(len(group_names))\n",
    "#print(X.shape)\n",
    "#groups = groups[0:40]\n",
    "group_names\n",
    "#group_extractor = GroupExtractor(select=['Right Cingulum Cingulate'], groups=groups, group_names=group_names)\n",
    "#X = group_extractor.fit_transform(X)"
   ]
  },
  {
   "cell_type": "code",
   "execution_count": 39,
   "id": "human-thought",
   "metadata": {},
   "outputs": [],
   "source": [
    "X_train, X_test, y_train, y_test = train_test_split(X[:,100:], y)"
   ]
  },
  {
   "cell_type": "code",
   "execution_count": 40,
   "id": "early-packet",
   "metadata": {},
   "outputs": [],
   "source": [
    "imp = SimpleImputer(strategy='median')\n",
    "imp.fit(X_train)\n",
    "X_train = imp.transform(X_train)\n",
    "X_test = imp.transform(X_test)\n",
    "\n",
    "#X_train = np.swapaxes(X_train.reshape((len(X_train), 40, 100)), 1, 2)\n",
    "#X_test = np.swapaxes(X_test.reshape((len(X_test), 40, 100)), 1, 2)"
   ]
  },
  {
   "cell_type": "code",
   "execution_count": 41,
   "id": "amino-fishing",
   "metadata": {},
   "outputs": [
    {
     "data": {
      "text/plain": [
       "((57, 3900), (57,), (20, 3900), (20,))"
      ]
     },
     "execution_count": 41,
     "metadata": {},
     "output_type": "execute_result"
    }
   ],
   "source": [
    "X_train.shape, y_train.shape, X_test.shape, y_test.shape"
   ]
  },
  {
   "cell_type": "code",
   "execution_count": 43,
   "id": "great-league",
   "metadata": {},
   "outputs": [],
   "source": [
    "model = Sequential()\n",
    "\n",
    "# input: 3+D tensor with shape: batch_shape + (steps, input_dim)\n",
    "# output: 3+D tensor with shape: batch_shape + (new_steps, filters) steps value might have changed due to padding or strides.\n",
    "# model.add(Conv1D(32, kernel_size=3, input_shape=X_train.shape[1:], activation='relu'))\n",
    "# flatten takes feature maps and flattens it into 784 pixels, since dense doesnt care about space\n",
    "#model.add(MaxPool1D(pool_size=3,padding='same'))\n",
    "#model.add(Flatten())\n",
    "model.add(Dense(128, activation='relu', input_shape=X_train.shape[1:]))\n",
    "model.add(Dropout(0.25))\n",
    "model.add(Dense(64, activation='relu'))\n",
    "model.add(Dropout(0.2))\n",
    "model.add(Dense(1, activation='linear'))\n",
    "\n",
    "model.compile(loss='mean_squared_error',optimizer='adam',metrics=['mean_squared_error'])"
   ]
  },
  {
   "cell_type": "code",
   "execution_count": 44,
   "id": "dying-slide",
   "metadata": {},
   "outputs": [
    {
     "name": "stdout",
     "output_type": "stream",
     "text": [
      "Model: \"sequential\"\n",
      "_________________________________________________________________\n",
      "Layer (type)                 Output Shape              Param #   \n",
      "=================================================================\n",
      "dense (Dense)                (None, 128)               499328    \n",
      "_________________________________________________________________\n",
      "dropout (Dropout)            (None, 128)               0         \n",
      "_________________________________________________________________\n",
      "dense_1 (Dense)              (None, 64)                8256      \n",
      "_________________________________________________________________\n",
      "dropout_1 (Dropout)          (None, 64)                0         \n",
      "_________________________________________________________________\n",
      "dense_2 (Dense)              (None, 1)                 65        \n",
      "=================================================================\n",
      "Total params: 507,649\n",
      "Trainable params: 507,649\n",
      "Non-trainable params: 0\n",
      "_________________________________________________________________\n"
     ]
    }
   ],
   "source": [
    "# The 1D convolution over sequences expects a 3D input. \n",
    "# In other words, for each element in the batch, for each time step, a single vector\n",
    "#X_test.shape\n",
    "# The inputs are 40-length vectors with 100 timesteps, and the batch size is 20.  \n",
    "model.summary()"
   ]
  },
  {
   "cell_type": "code",
   "execution_count": 45,
   "id": "white-absolute",
   "metadata": {
    "scrolled": true,
    "tags": []
   },
   "outputs": [
    {
     "name": "stdout",
     "output_type": "stream",
     "text": [
      "Epoch 1/100\n",
      "1/1 [==============================] - 1s 565ms/step - loss: 464.8301 - mean_squared_error: 464.8301 - val_loss: 294.6805 - val_mean_squared_error: 294.6805\n",
      "Epoch 2/100\n",
      "1/1 [==============================] - 0s 46ms/step - loss: 258.0042 - mean_squared_error: 258.0042 - val_loss: 174.2284 - val_mean_squared_error: 174.2284\n",
      "Epoch 3/100\n",
      "1/1 [==============================] - 0s 45ms/step - loss: 174.7412 - mean_squared_error: 174.7412 - val_loss: 160.5619 - val_mean_squared_error: 160.5619\n",
      "Epoch 4/100\n",
      "1/1 [==============================] - 0s 47ms/step - loss: 183.1973 - mean_squared_error: 183.1973 - val_loss: 191.2643 - val_mean_squared_error: 191.2643\n",
      "Epoch 5/100\n",
      "1/1 [==============================] - 0s 46ms/step - loss: 217.1033 - mean_squared_error: 217.1033 - val_loss: 194.8665 - val_mean_squared_error: 194.8665\n",
      "Epoch 6/100\n",
      "1/1 [==============================] - 0s 45ms/step - loss: 257.8545 - mean_squared_error: 257.8545 - val_loss: 171.2477 - val_mean_squared_error: 171.2477\n",
      "Epoch 7/100\n",
      "1/1 [==============================] - 0s 42ms/step - loss: 220.4772 - mean_squared_error: 220.4772 - val_loss: 154.6538 - val_mean_squared_error: 154.6538\n",
      "Epoch 8/100\n",
      "1/1 [==============================] - 0s 40ms/step - loss: 176.9769 - mean_squared_error: 176.9769 - val_loss: 158.7491 - val_mean_squared_error: 158.7491\n",
      "Epoch 9/100\n",
      "1/1 [==============================] - 0s 44ms/step - loss: 163.6981 - mean_squared_error: 163.6981 - val_loss: 179.8773 - val_mean_squared_error: 179.8773\n",
      "Epoch 10/100\n",
      "1/1 [==============================] - 0s 42ms/step - loss: 187.3921 - mean_squared_error: 187.3921 - val_loss: 199.3016 - val_mean_squared_error: 199.3016\n",
      "Epoch 11/100\n",
      "1/1 [==============================] - 0s 46ms/step - loss: 195.8926 - mean_squared_error: 195.8926 - val_loss: 205.2838 - val_mean_squared_error: 205.2838\n",
      "Epoch 12/100\n",
      "1/1 [==============================] - 0s 42ms/step - loss: 195.3008 - mean_squared_error: 195.3008 - val_loss: 200.2015 - val_mean_squared_error: 200.2015\n",
      "Epoch 13/100\n",
      "1/1 [==============================] - 0s 46ms/step - loss: 191.3874 - mean_squared_error: 191.3874 - val_loss: 186.7866 - val_mean_squared_error: 186.7866\n",
      "Epoch 14/100\n",
      "1/1 [==============================] - 0s 47ms/step - loss: 182.0065 - mean_squared_error: 182.0065 - val_loss: 172.7560 - val_mean_squared_error: 172.7560\n",
      "Epoch 15/100\n",
      "1/1 [==============================] - 0s 43ms/step - loss: 187.7055 - mean_squared_error: 187.7055 - val_loss: 161.2076 - val_mean_squared_error: 161.2076\n",
      "Epoch 16/100\n",
      "1/1 [==============================] - 0s 45ms/step - loss: 156.6824 - mean_squared_error: 156.6824 - val_loss: 154.7690 - val_mean_squared_error: 154.7690\n",
      "Epoch 17/100\n",
      "1/1 [==============================] - 0s 41ms/step - loss: 162.0723 - mean_squared_error: 162.0723 - val_loss: 152.4654 - val_mean_squared_error: 152.4654\n",
      "Epoch 18/100\n",
      "1/1 [==============================] - 0s 43ms/step - loss: 159.5584 - mean_squared_error: 159.5584 - val_loss: 152.7006 - val_mean_squared_error: 152.7006\n",
      "Epoch 19/100\n",
      "1/1 [==============================] - 0s 48ms/step - loss: 162.1193 - mean_squared_error: 162.1193 - val_loss: 153.4257 - val_mean_squared_error: 153.4257\n",
      "Epoch 20/100\n",
      "1/1 [==============================] - 0s 40ms/step - loss: 164.1445 - mean_squared_error: 164.1445 - val_loss: 153.4622 - val_mean_squared_error: 153.4622\n",
      "Epoch 21/100\n",
      "1/1 [==============================] - 0s 37ms/step - loss: 165.3684 - mean_squared_error: 165.3684 - val_loss: 152.6222 - val_mean_squared_error: 152.6222\n",
      "Epoch 22/100\n",
      "1/1 [==============================] - 0s 42ms/step - loss: 150.9229 - mean_squared_error: 150.9229 - val_loss: 151.9215 - val_mean_squared_error: 151.9215\n",
      "Epoch 23/100\n",
      "1/1 [==============================] - 0s 60ms/step - loss: 179.7175 - mean_squared_error: 179.7175 - val_loss: 152.0780 - val_mean_squared_error: 152.0780\n",
      "Epoch 24/100\n",
      "1/1 [==============================] - 0s 55ms/step - loss: 171.2460 - mean_squared_error: 171.2460 - val_loss: 154.8096 - val_mean_squared_error: 154.8096\n",
      "Epoch 25/100\n",
      "1/1 [==============================] - 0s 42ms/step - loss: 143.0943 - mean_squared_error: 143.0943 - val_loss: 158.3470 - val_mean_squared_error: 158.3470\n",
      "Epoch 26/100\n",
      "1/1 [==============================] - 0s 44ms/step - loss: 186.4415 - mean_squared_error: 186.4415 - val_loss: 162.6574 - val_mean_squared_error: 162.6574\n",
      "Epoch 27/100\n",
      "1/1 [==============================] - 0s 48ms/step - loss: 142.6947 - mean_squared_error: 142.6947 - val_loss: 165.8731 - val_mean_squared_error: 165.8731\n",
      "Epoch 28/100\n",
      "1/1 [==============================] - 0s 50ms/step - loss: 158.4925 - mean_squared_error: 158.4925 - val_loss: 166.8767 - val_mean_squared_error: 166.8767\n",
      "Epoch 29/100\n",
      "1/1 [==============================] - 0s 44ms/step - loss: 159.3139 - mean_squared_error: 159.3139 - val_loss: 166.6749 - val_mean_squared_error: 166.6749\n",
      "Epoch 30/100\n",
      "1/1 [==============================] - 0s 38ms/step - loss: 170.5193 - mean_squared_error: 170.5193 - val_loss: 164.7882 - val_mean_squared_error: 164.7882\n",
      "Epoch 31/100\n",
      "1/1 [==============================] - 0s 37ms/step - loss: 158.9431 - mean_squared_error: 158.9431 - val_loss: 161.7258 - val_mean_squared_error: 161.7258\n",
      "Epoch 32/100\n",
      "1/1 [==============================] - 0s 41ms/step - loss: 161.0915 - mean_squared_error: 161.0915 - val_loss: 158.4865 - val_mean_squared_error: 158.4865\n",
      "Epoch 33/100\n",
      "1/1 [==============================] - 0s 46ms/step - loss: 154.0160 - mean_squared_error: 154.0160 - val_loss: 155.3112 - val_mean_squared_error: 155.3112\n",
      "Epoch 34/100\n",
      "1/1 [==============================] - 0s 55ms/step - loss: 142.2362 - mean_squared_error: 142.2362 - val_loss: 152.6517 - val_mean_squared_error: 152.6517\n",
      "Epoch 35/100\n",
      "1/1 [==============================] - 0s 60ms/step - loss: 173.1119 - mean_squared_error: 173.1119 - val_loss: 151.2910 - val_mean_squared_error: 151.2910\n",
      "Epoch 36/100\n",
      "1/1 [==============================] - 0s 48ms/step - loss: 158.7449 - mean_squared_error: 158.7449 - val_loss: 150.9523 - val_mean_squared_error: 150.9523\n",
      "Epoch 37/100\n",
      "1/1 [==============================] - 0s 61ms/step - loss: 184.4199 - mean_squared_error: 184.4199 - val_loss: 151.2631 - val_mean_squared_error: 151.2631\n",
      "Epoch 38/100\n",
      "1/1 [==============================] - 0s 56ms/step - loss: 163.0727 - mean_squared_error: 163.0727 - val_loss: 151.6801 - val_mean_squared_error: 151.6801\n",
      "Epoch 39/100\n",
      "1/1 [==============================] - 0s 58ms/step - loss: 165.6674 - mean_squared_error: 165.6674 - val_loss: 152.6989 - val_mean_squared_error: 152.6989\n",
      "Epoch 40/100\n",
      "1/1 [==============================] - 0s 50ms/step - loss: 164.1998 - mean_squared_error: 164.1998 - val_loss: 154.3881 - val_mean_squared_error: 154.3881\n",
      "Epoch 41/100\n",
      "1/1 [==============================] - 0s 47ms/step - loss: 165.2019 - mean_squared_error: 165.2019 - val_loss: 157.1299 - val_mean_squared_error: 157.1299\n",
      "Epoch 42/100\n",
      "1/1 [==============================] - 0s 46ms/step - loss: 160.4793 - mean_squared_error: 160.4793 - val_loss: 159.2382 - val_mean_squared_error: 159.2382\n",
      "Epoch 43/100\n",
      "1/1 [==============================] - 0s 45ms/step - loss: 181.5399 - mean_squared_error: 181.5399 - val_loss: 161.1460 - val_mean_squared_error: 161.1460\n",
      "Epoch 44/100\n",
      "1/1 [==============================] - 0s 54ms/step - loss: 166.3111 - mean_squared_error: 166.3111 - val_loss: 161.4020 - val_mean_squared_error: 161.4020\n",
      "Epoch 45/100\n",
      "1/1 [==============================] - 0s 36ms/step - loss: 169.2881 - mean_squared_error: 169.2881 - val_loss: 160.7823 - val_mean_squared_error: 160.7823\n",
      "Epoch 46/100\n",
      "1/1 [==============================] - 0s 40ms/step - loss: 154.0273 - mean_squared_error: 154.0273 - val_loss: 158.6345 - val_mean_squared_error: 158.6345\n",
      "Epoch 47/100\n",
      "1/1 [==============================] - 0s 41ms/step - loss: 164.2442 - mean_squared_error: 164.2442 - val_loss: 155.9485 - val_mean_squared_error: 155.9485\n",
      "Epoch 48/100\n",
      "1/1 [==============================] - 0s 63ms/step - loss: 153.4194 - mean_squared_error: 153.4194 - val_loss: 152.9802 - val_mean_squared_error: 152.9802\n",
      "Epoch 49/100\n",
      "1/1 [==============================] - 0s 53ms/step - loss: 147.1639 - mean_squared_error: 147.1639 - val_loss: 150.6326 - val_mean_squared_error: 150.6326\n",
      "Epoch 50/100\n",
      "1/1 [==============================] - 0s 67ms/step - loss: 166.7059 - mean_squared_error: 166.7059 - val_loss: 149.4789 - val_mean_squared_error: 149.4789\n",
      "Epoch 51/100\n",
      "1/1 [==============================] - 0s 39ms/step - loss: 160.1031 - mean_squared_error: 160.1031 - val_loss: 148.6075 - val_mean_squared_error: 148.6075\n",
      "Epoch 52/100\n",
      "1/1 [==============================] - 0s 39ms/step - loss: 149.6904 - mean_squared_error: 149.6904 - val_loss: 148.1354 - val_mean_squared_error: 148.1354\n",
      "Epoch 53/100\n",
      "1/1 [==============================] - 0s 36ms/step - loss: 169.6168 - mean_squared_error: 169.6168 - val_loss: 148.6405 - val_mean_squared_error: 148.6405\n",
      "Epoch 54/100\n",
      "1/1 [==============================] - 0s 48ms/step - loss: 168.5376 - mean_squared_error: 168.5376 - val_loss: 149.6655 - val_mean_squared_error: 149.6655\n",
      "Epoch 55/100\n",
      "1/1 [==============================] - 0s 44ms/step - loss: 164.1324 - mean_squared_error: 164.1324 - val_loss: 151.7055 - val_mean_squared_error: 151.7055\n",
      "Epoch 56/100\n",
      "1/1 [==============================] - 0s 38ms/step - loss: 162.8769 - mean_squared_error: 162.8769 - val_loss: 154.1062 - val_mean_squared_error: 154.1062\n",
      "Epoch 57/100\n",
      "1/1 [==============================] - 0s 51ms/step - loss: 145.8648 - mean_squared_error: 145.8648 - val_loss: 155.8431 - val_mean_squared_error: 155.8431\n",
      "Epoch 58/100\n",
      "1/1 [==============================] - 0s 47ms/step - loss: 151.5741 - mean_squared_error: 151.5741 - val_loss: 157.4269 - val_mean_squared_error: 157.4269\n",
      "Epoch 59/100\n",
      "1/1 [==============================] - 0s 58ms/step - loss: 166.4315 - mean_squared_error: 166.4315 - val_loss: 156.2061 - val_mean_squared_error: 156.2061\n",
      "Epoch 60/100\n",
      "1/1 [==============================] - 0s 68ms/step - loss: 157.8912 - mean_squared_error: 157.8912 - val_loss: 153.4889 - val_mean_squared_error: 153.4889\n",
      "Epoch 61/100\n",
      "1/1 [==============================] - 0s 45ms/step - loss: 167.8391 - mean_squared_error: 167.8391 - val_loss: 151.4264 - val_mean_squared_error: 151.4264\n",
      "Epoch 62/100\n",
      "1/1 [==============================] - 0s 56ms/step - loss: 156.6169 - mean_squared_error: 156.6169 - val_loss: 149.7010 - val_mean_squared_error: 149.7010\n",
      "Epoch 63/100\n",
      "1/1 [==============================] - 0s 48ms/step - loss: 161.0189 - mean_squared_error: 161.0189 - val_loss: 148.3883 - val_mean_squared_error: 148.3883\n",
      "Epoch 64/100\n",
      "1/1 [==============================] - 0s 44ms/step - loss: 155.8208 - mean_squared_error: 155.8208 - val_loss: 147.4948 - val_mean_squared_error: 147.4948\n",
      "Epoch 65/100\n",
      "1/1 [==============================] - 0s 45ms/step - loss: 147.7629 - mean_squared_error: 147.7629 - val_loss: 146.4860 - val_mean_squared_error: 146.4860\n",
      "Epoch 66/100\n",
      "1/1 [==============================] - 0s 38ms/step - loss: 158.7152 - mean_squared_error: 158.7152 - val_loss: 145.8531 - val_mean_squared_error: 145.8531\n",
      "Epoch 67/100\n",
      "1/1 [==============================] - 0s 35ms/step - loss: 160.2523 - mean_squared_error: 160.2523 - val_loss: 146.5415 - val_mean_squared_error: 146.5415\n",
      "Epoch 68/100\n",
      "1/1 [==============================] - 0s 37ms/step - loss: 139.4772 - mean_squared_error: 139.4772 - val_loss: 147.0032 - val_mean_squared_error: 147.0032\n",
      "Epoch 69/100\n",
      "1/1 [==============================] - 0s 47ms/step - loss: 165.4700 - mean_squared_error: 165.4700 - val_loss: 148.6414 - val_mean_squared_error: 148.6414\n",
      "Epoch 70/100\n",
      "1/1 [==============================] - 0s 39ms/step - loss: 145.8205 - mean_squared_error: 145.8205 - val_loss: 149.6260 - val_mean_squared_error: 149.6260\n",
      "Epoch 71/100\n",
      "1/1 [==============================] - 0s 39ms/step - loss: 164.1279 - mean_squared_error: 164.1279 - val_loss: 150.1959 - val_mean_squared_error: 150.1959\n",
      "Epoch 72/100\n",
      "1/1 [==============================] - 0s 38ms/step - loss: 142.9204 - mean_squared_error: 142.9204 - val_loss: 150.0686 - val_mean_squared_error: 150.0686\n",
      "Epoch 73/100\n",
      "1/1 [==============================] - 0s 34ms/step - loss: 168.7551 - mean_squared_error: 168.7551 - val_loss: 149.1253 - val_mean_squared_error: 149.1253\n",
      "Epoch 74/100\n",
      "1/1 [==============================] - 0s 40ms/step - loss: 166.2289 - mean_squared_error: 166.2289 - val_loss: 147.6811 - val_mean_squared_error: 147.6811\n",
      "Epoch 75/100\n",
      "1/1 [==============================] - 0s 45ms/step - loss: 155.9334 - mean_squared_error: 155.9334 - val_loss: 147.1654 - val_mean_squared_error: 147.1654\n",
      "Epoch 76/100\n",
      "1/1 [==============================] - 0s 63ms/step - loss: 164.2441 - mean_squared_error: 164.2441 - val_loss: 148.1128 - val_mean_squared_error: 148.1128\n",
      "Epoch 77/100\n",
      "1/1 [==============================] - 0s 44ms/step - loss: 152.2015 - mean_squared_error: 152.2015 - val_loss: 148.5597 - val_mean_squared_error: 148.5597\n",
      "Epoch 78/100\n",
      "1/1 [==============================] - 0s 50ms/step - loss: 168.2350 - mean_squared_error: 168.2350 - val_loss: 148.8080 - val_mean_squared_error: 148.8080\n",
      "Epoch 79/100\n",
      "1/1 [==============================] - 0s 57ms/step - loss: 149.1751 - mean_squared_error: 149.1751 - val_loss: 148.8972 - val_mean_squared_error: 148.8972\n",
      "Epoch 80/100\n",
      "1/1 [==============================] - 0s 43ms/step - loss: 156.0807 - mean_squared_error: 156.0807 - val_loss: 147.8018 - val_mean_squared_error: 147.8018\n",
      "Epoch 81/100\n",
      "1/1 [==============================] - 0s 47ms/step - loss: 148.0284 - mean_squared_error: 148.0284 - val_loss: 145.4964 - val_mean_squared_error: 145.4964\n",
      "Epoch 82/100\n",
      "1/1 [==============================] - 0s 44ms/step - loss: 155.8333 - mean_squared_error: 155.8333 - val_loss: 143.4178 - val_mean_squared_error: 143.4178\n",
      "Epoch 83/100\n",
      "1/1 [==============================] - 0s 48ms/step - loss: 144.4710 - mean_squared_error: 144.4710 - val_loss: 141.9850 - val_mean_squared_error: 141.9850\n",
      "Epoch 84/100\n",
      "1/1 [==============================] - 0s 51ms/step - loss: 139.9714 - mean_squared_error: 139.9714 - val_loss: 140.7230 - val_mean_squared_error: 140.7230\n",
      "Epoch 85/100\n",
      "1/1 [==============================] - 0s 59ms/step - loss: 155.3112 - mean_squared_error: 155.3112 - val_loss: 139.9386 - val_mean_squared_error: 139.9386\n",
      "Epoch 86/100\n",
      "1/1 [==============================] - 0s 67ms/step - loss: 145.4313 - mean_squared_error: 145.4313 - val_loss: 139.8309 - val_mean_squared_error: 139.8309\n",
      "Epoch 87/100\n",
      "1/1 [==============================] - 0s 49ms/step - loss: 137.9470 - mean_squared_error: 137.9470 - val_loss: 140.4632 - val_mean_squared_error: 140.4632\n",
      "Epoch 88/100\n",
      "1/1 [==============================] - 0s 41ms/step - loss: 166.0851 - mean_squared_error: 166.0851 - val_loss: 141.3757 - val_mean_squared_error: 141.3757\n",
      "Epoch 89/100\n",
      "1/1 [==============================] - 0s 43ms/step - loss: 159.4700 - mean_squared_error: 159.4700 - val_loss: 142.4416 - val_mean_squared_error: 142.4416\n",
      "Epoch 90/100\n",
      "1/1 [==============================] - 0s 41ms/step - loss: 151.6192 - mean_squared_error: 151.6192 - val_loss: 143.1564 - val_mean_squared_error: 143.1564\n",
      "Epoch 91/100\n",
      "1/1 [==============================] - 0s 36ms/step - loss: 146.3308 - mean_squared_error: 146.3308 - val_loss: 142.8509 - val_mean_squared_error: 142.8509\n",
      "Epoch 92/100\n",
      "1/1 [==============================] - 0s 38ms/step - loss: 137.0613 - mean_squared_error: 137.0613 - val_loss: 141.6515 - val_mean_squared_error: 141.6515\n",
      "Epoch 93/100\n",
      "1/1 [==============================] - 0s 33ms/step - loss: 124.6903 - mean_squared_error: 124.6903 - val_loss: 139.1058 - val_mean_squared_error: 139.1058\n",
      "Epoch 94/100\n",
      "1/1 [==============================] - 0s 33ms/step - loss: 150.5851 - mean_squared_error: 150.5851 - val_loss: 136.3772 - val_mean_squared_error: 136.3772\n",
      "Epoch 95/100\n",
      "1/1 [==============================] - 0s 41ms/step - loss: 159.1527 - mean_squared_error: 159.1527 - val_loss: 134.9918 - val_mean_squared_error: 134.9918\n",
      "Epoch 96/100\n",
      "1/1 [==============================] - 0s 47ms/step - loss: 146.4004 - mean_squared_error: 146.4004 - val_loss: 133.9733 - val_mean_squared_error: 133.9733\n",
      "Epoch 97/100\n",
      "1/1 [==============================] - 0s 39ms/step - loss: 143.5563 - mean_squared_error: 143.5563 - val_loss: 134.1643 - val_mean_squared_error: 134.1643\n",
      "Epoch 98/100\n",
      "1/1 [==============================] - 0s 37ms/step - loss: 152.0349 - mean_squared_error: 152.0349 - val_loss: 134.8036 - val_mean_squared_error: 134.8036\n",
      "Epoch 99/100\n",
      "1/1 [==============================] - 0s 35ms/step - loss: 134.6873 - mean_squared_error: 134.6873 - val_loss: 136.2001 - val_mean_squared_error: 136.2001\n",
      "Epoch 100/100\n",
      "1/1 [==============================] - 0s 42ms/step - loss: 127.8487 - mean_squared_error: 127.8487 - val_loss: 137.6547 - val_mean_squared_error: 137.6547\n",
      "1/1 [==============================] - 0s 16ms/step - loss: 137.6547 - mean_squared_error: 137.6547\n",
      "loss : 137.6547088623047\n",
      "mean_squared_error : 137.6547088623047\n"
     ]
    }
   ],
   "source": [
    "#callback = EarlyStopping(monitor='loss', patience=3)\n",
    "model.fit(X_train, y_train, epochs=100, batch_size=100, validation_data=(X_test, y_test))\n",
    "loss_and_metrics = model.evaluate(X_test, y_test, batch_size=100)\n",
    "for name, metric in zip(model.metrics_names, loss_and_metrics):\n",
    "    print(name, \":\", metric)"
   ]
  },
  {
   "cell_type": "code",
   "execution_count": null,
   "id": "constant-guard",
   "metadata": {},
   "outputs": [],
   "source": [
    "y_hat = model.predict(X_train)\n",
    "plt.plot(y_train, y_hat, linestyle=\"\", marker=\".\")"
   ]
  },
  {
   "cell_type": "code",
   "execution_count": null,
   "id": "selected-personality",
   "metadata": {},
   "outputs": [],
   "source": [
    "quants = pd.qcut(y_train, 5, labels=False)\n",
    "for i in range(5):\n",
    "    plt.plot(X_train[quants == i].mean(axis=0), label=i)\n",
    "    plt.legend()"
   ]
  },
  {
   "cell_type": "code",
   "execution_count": null,
   "id": "proper-worker",
   "metadata": {},
   "outputs": [],
   "source": []
  }
 ],
 "metadata": {
  "kernelspec": {
   "display_name": "Python 3",
   "language": "python",
   "name": "python3"
  },
  "language_info": {
   "codemirror_mode": {
    "name": "ipython",
    "version": 3
   },
   "file_extension": ".py",
   "mimetype": "text/x-python",
   "name": "python",
   "nbconvert_exporter": "python",
   "pygments_lexer": "ipython3",
   "version": "3.8.8"
  }
 },
 "nbformat": 4,
 "nbformat_minor": 5
}
