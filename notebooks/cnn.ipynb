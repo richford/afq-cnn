{
 "cells": [
  {
   "cell_type": "code",
   "execution_count": null,
   "id": "covered-venezuela",
   "metadata": {},
   "outputs": [],
   "source": [
    "import pandas as pd\n",
    "import afqinsight as afq\n",
    "import numpy as np\n",
    "from sklearn.linear_model import LassoCV\n",
    "from sklearn.pipeline import Pipeline\n",
    "from sklearn.impute import SimpleImputer\n",
    "from sklearn.model_selection import cross_val_score, train_test_split\n",
    "from groupyr.transform import GroupExtractor\n",
    "from sklearn.ensemble import RandomForestRegressor, AdaBoostRegressor\n",
    "import sklearn.metrics\n",
    "import matplotlib.pyplot as plt"
   ]
  },
  {
   "cell_type": "code",
   "execution_count": null,
   "id": "alive-advice",
   "metadata": {},
   "outputs": [],
   "source": [
    "from keras.models import Sequential\n",
    "from keras.layers import Dense, Conv1D, Flatten, MaxPool1D, MaxPooling1D, Dropout\n",
    "from keras.callbacks import EarlyStopping\n",
    "from sklearn.impute import SimpleImputer"
   ]
  },
  {
   "cell_type": "code",
   "execution_count": null,
   "id": "verbal-craps",
   "metadata": {},
   "outputs": [],
   "source": [
    "X, y, groups, feature_names, group_names, subjects, _ = afq.datasets.load_afq_data('../data/raw/age_data', target_cols=\"Age\")"
   ]
  },
  {
   "cell_type": "code",
   "execution_count": null,
   "id": "fifth-pennsylvania",
   "metadata": {},
   "outputs": [],
   "source": [
    "group_extractor = GroupExtractor(select=['fa', 'md'], groups=groups, group_names=group_names)\n",
    "X = group_extractor.fit_transform(X)"
   ]
  },
  {
   "cell_type": "code",
   "execution_count": null,
   "id": "included-portfolio",
   "metadata": {},
   "outputs": [],
   "source": [
    "#group_names = [g for g in group_names if g[0] in ['md', 'fa']]\n",
    "#print(len(group_names))\n",
    "#print(X.shape)\n",
    "#groups = groups[0:40]\n",
    "#group_extractor = GroupExtractor(select=['Right Cingulum Cingulate'], groups=groups, group_names=group_names)\n",
    "#X = group_extractor.fit_transform(X)"
   ]
  },
  {
   "cell_type": "code",
   "execution_count": null,
   "id": "mental-evanescence",
   "metadata": {},
   "outputs": [],
   "source": [
    "X.shape"
   ]
  },
  {
   "cell_type": "code",
   "execution_count": null,
   "id": "drawn-capitol",
   "metadata": {},
   "outputs": [],
   "source": [
    "X_train, X_test, y_train, y_test = train_test_split(X, y)"
   ]
  },
  {
   "cell_type": "code",
   "execution_count": null,
   "id": "written-details",
   "metadata": {},
   "outputs": [],
   "source": [
    "imp = SimpleImputer(strategy='median')\n",
    "imp.fit(X_train)\n",
    "X_train = imp.transform(X_train)\n",
    "X_test = imp.transform(X_test)"
   ]
  },
  {
   "cell_type": "code",
   "execution_count": null,
   "id": "proper-desktop",
   "metadata": {},
   "outputs": [],
   "source": [
    "X_train.shape, y_train.shape, X_test.shape, y_test.shape"
   ]
  },
  {
   "cell_type": "code",
   "execution_count": null,
   "id": "armed-millennium",
   "metadata": {},
   "outputs": [],
   "source": [
    "X_train_reshaped = np.swapaxes(X_train.reshape((57, 40, 100)), 1, 2)\n",
    "X_test_reshaped = np.swapaxes(X_test.reshape((20, 40, 100)), 1, 2)"
   ]
  },
  {
   "cell_type": "code",
   "execution_count": null,
   "id": "tutorial-tulsa",
   "metadata": {},
   "outputs": [],
   "source": [
    "basic_model = Sequential()\n",
    "\n",
    "# input: 3+D tensor with shape: batch_shape + (steps, input_dim)\n",
    "# output: 3+D tensor with shape: batch_shape + (new_steps, filters) steps value might have changed due to padding or strides.\n",
    "basic_model = Sequential()\n",
    "basic_model.add(Dense(128, activation='relu', input_shape=X_train_reshaped.shape[1:]))\n",
    "basic_model.add(Conv1D(24, kernel_size=2, activation='relu'))\n",
    "basic_model.add(MaxPool1D(pool_size=2,padding='same'))\n",
    "basic_model.add(Conv1D(32, kernel_size=2, activation='relu'))\n",
    "basic_model.add(MaxPool1D(pool_size=2,padding='same'))\n",
    "basic_model.add(Conv1D(64, kernel_size=3, activation='relu'))\n",
    "basic_model.add(MaxPool1D(pool_size=2,padding='same'))\n",
    "basic_model.add(Conv1D(128, kernel_size=4, activation='relu'))\n",
    "basic_model.add(MaxPool1D(pool_size=2,padding='same'))\n",
    "basic_model.add(Conv1D(256, kernel_size=4, activation='relu'))\n",
    "basic_model.add(MaxPool1D(pool_size=2,padding='same'))\n",
    "basic_model.add(Dropout(0.25))\n",
    "basic_model.add(Flatten())\n",
    "basic_model.add(Dense(128, activation='relu'))\n",
    "basic_model.add(Dropout(0.25))\n",
    "basic_model.add(Dense(64, activation='relu'))\n",
    "basic_model.add(Dense(1, activation='linear'))\n",
    "\n",
    "basic_model.compile(loss='mean_squared_error',optimizer='adam',metrics=['mean_squared_error'])"
   ]
  },
  {
   "cell_type": "code",
   "execution_count": null,
   "id": "shared-patent",
   "metadata": {},
   "outputs": [],
   "source": [
    "basic_model.summary()"
   ]
  },
  {
   "cell_type": "code",
   "execution_count": null,
   "id": "victorian-genetics",
   "metadata": {
    "tags": []
   },
   "outputs": [],
   "source": [
    "import os.path as op\n",
    "from tensorflow.keras.callbacks import ModelCheckpoint\n",
    "\n",
    "weights_path = op.join(\"train\", 'cnn_weights.hdf5')\n",
    "basic_model_checkpoint_callback = ModelCheckpoint(filepath=weights_path,\n",
    "                                            monitor='val_loss',\n",
    "                                            mode='auto',\n",
    "                                            save_best_only=True,\n",
    "                                            save_weights_only=True,\n",
    "                                            verbose=True)\n",
    "\n",
    "# Fitting basic_model using basic_model checkpoint callback to find best basic_model which is saved to 'weights'\n",
    "basic_model.fit(X_train_reshaped, y_train, epochs=200, batch_size=100, callbacks=[basic_model_checkpoint_callback], validation_data=(X_test_reshaped, y_test))"
   ]
  },
  {
   "cell_type": "code",
   "execution_count": null,
   "id": "continuous-board",
   "metadata": {},
   "outputs": [],
   "source": [
    "basic_model.load_weights(weights_path)"
   ]
  },
  {
   "cell_type": "code",
   "execution_count": null,
   "id": "instant-matthew",
   "metadata": {
    "tags": []
   },
   "outputs": [],
   "source": [
    "#callback = EarlyStopping(monitor='val_loss', patience=50)\n",
    "#basic_model.fit(X_train_reshaped, y_train, epochs=100, batch_size=100, validation_data=(X_test_reshaped, y_test))\n",
    "#loss_and_metrics = basic_model.evaluate(X_test_reshaped, y_test, batch_size=100)\n",
    "#for name, metric in zip(basic_model.metrics_names, loss_and_metrics):\n",
    "#    print(name, \":\", metric)"
   ]
  },
  {
   "cell_type": "code",
   "execution_count": null,
   "id": "pointed-sharing",
   "metadata": {},
   "outputs": [],
   "source": [
    "y_hat = basic_model.predict(X_train_reshaped)\n",
    "plt.plot(y_train, y_hat, linestyle=\"\", marker=\".\")"
   ]
  },
  {
   "cell_type": "code",
   "execution_count": null,
   "id": "educated-basketball",
   "metadata": {},
   "outputs": [],
   "source": [
    "y_hat = basic_model.predict(X_test_reshaped)\n",
    "plt.plot(y_test, y_hat, linestyle=\"\", marker=\".\")"
   ]
  },
  {
   "cell_type": "code",
   "execution_count": null,
   "id": "spare-bulletin",
   "metadata": {},
   "outputs": [],
   "source": [
    "from sklearn.metrics import r2_score"
   ]
  },
  {
   "cell_type": "code",
   "execution_count": null,
   "id": "bored-killer",
   "metadata": {},
   "outputs": [],
   "source": [
    "r2_score(y_test, y_hat)"
   ]
  },
  {
   "cell_type": "code",
   "execution_count": null,
   "id": "confidential-pillow",
   "metadata": {},
   "outputs": [],
   "source": []
  },
  {
   "cell_type": "code",
   "execution_count": null,
   "id": "concerned-think",
   "metadata": {},
   "outputs": [],
   "source": []
  }
 ],
 "metadata": {
  "kernelspec": {
   "display_name": "Python 3 (ipykernel)",
   "language": "python",
   "name": "python3"
  },
  "language_info": {
   "codemirror_mode": {
    "name": "ipython",
    "version": 3
   },
   "file_extension": ".py",
   "mimetype": "text/x-python",
   "name": "python",
   "nbconvert_exporter": "python",
   "pygments_lexer": "ipython3",
   "version": "3.8.8"
  }
 },
 "nbformat": 4,
 "nbformat_minor": 5
}
