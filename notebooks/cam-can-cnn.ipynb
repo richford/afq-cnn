{
 "cells": [
  {
   "cell_type": "code",
   "execution_count": null,
   "id": "prepared-seven",
   "metadata": {},
   "outputs": [],
   "source": [
    "import afqinsight as afq"
   ]
  },
  {
   "cell_type": "code",
   "execution_count": null,
   "id": "hydraulic-compact",
   "metadata": {},
   "outputs": [],
   "source": [
    "import numpy as np\n",
    "import pandas as pd\n",
    "import matplotlib.pyplot as plt\n",
    "from sklearn.model_selection import cross_val_score, train_test_split\n",
    "from sklearn.metrics import r2_score\n",
    "from tensorflow.keras.models import Sequential\n",
    "from keras.layers import Dense, Conv1D, Flatten, MaxPool1D, MaxPooling1D, Dropout\n",
    "from keras.regularizers import l1_l2, l2\n",
    "from keras.callbacks import EarlyStopping\n",
    "from sklearn.impute import SimpleImputer\n",
    "import kerastuner as kt"
   ]
  },
  {
   "cell_type": "code",
   "execution_count": null,
   "id": "color-description",
   "metadata": {},
   "outputs": [],
   "source": [
    "pwd"
   ]
  },
  {
   "cell_type": "code",
   "execution_count": null,
   "id": "becoming-moral",
   "metadata": {},
   "outputs": [],
   "source": [
    "X, y, groups, feature_names, group_names, subjects, classes = afq.datasets.load_afq_data(\n",
    "    workdir=\"../data/\",\n",
    "    dwi_metrics=[\"dki_md\", \"dki_fa\"],\n",
    "    target_cols=[\"age\"],\n",
    "    index_col=\"Observations\",\n",
    "    fn_nodes=\"combined_tract_profiles.csv\",\n",
    "    fn_subjects=\"participant_data.tsv\",\n",
    ")"
   ]
  },
  {
   "cell_type": "code",
   "execution_count": null,
   "id": "geological-amplifier",
   "metadata": {},
   "outputs": [],
   "source": [
    "X.shape, y.shape"
   ]
  },
  {
   "cell_type": "code",
   "execution_count": null,
   "id": "mechanical-universe",
   "metadata": {},
   "outputs": [],
   "source": [
    "nan_mask = np.logical_not(np.isnan(y))\n",
    "y = y[nan_mask]\n",
    "X = X[nan_mask, :]"
   ]
  },
  {
   "cell_type": "code",
   "execution_count": null,
   "id": "anonymous-surrey",
   "metadata": {},
   "outputs": [],
   "source": [
    "X_train, X_test, y_train, y_test = train_test_split(X, y)"
   ]
  },
  {
   "cell_type": "code",
   "execution_count": null,
   "id": "still-protection",
   "metadata": {},
   "outputs": [],
   "source": [
    "np.count_nonzero(np.isnan(y_test))"
   ]
  },
  {
   "cell_type": "code",
   "execution_count": null,
   "id": "discrete-contributor",
   "metadata": {},
   "outputs": [],
   "source": [
    "imp = SimpleImputer(strategy='median')\n",
    "imp.fit(X_train)\n",
    "X_train = imp.transform(X_train)\n",
    "X_test = imp.transform(X_test)\n",
    "#y_imp = SimpleImputer(strategy='median')\n",
    "#y_imp.fit(y_train)\n",
    "#y_train = imp.transform(y_train)\n",
    "#y_test = imp.transform(y_test)"
   ]
  },
  {
   "cell_type": "code",
   "execution_count": null,
   "id": "mineral-maple",
   "metadata": {},
   "outputs": [],
   "source": [
    "X_train.shape, y_train.shape, X_test.shape, y_test.shape"
   ]
  },
  {
   "cell_type": "code",
   "execution_count": null,
   "id": "weird-binary",
   "metadata": {},
   "outputs": [],
   "source": [
    "X_train.shape[0]"
   ]
  },
  {
   "cell_type": "code",
   "execution_count": null,
   "id": "ultimate-ethics",
   "metadata": {},
   "outputs": [],
   "source": [
    "X_train_reshaped = np.swapaxes(X_train.reshape((480, 36, 100)), 1, 2)\n",
    "X_test_reshaped = np.swapaxes(X_test.reshape((160, 36, 100)), 1, 2)"
   ]
  },
  {
   "cell_type": "code",
   "execution_count": null,
   "id": "assigned-michael",
   "metadata": {},
   "outputs": [],
   "source": [
    "X_train.shape, X_test.shape"
   ]
  },
  {
   "cell_type": "code",
   "execution_count": null,
   "id": "turned-poland",
   "metadata": {},
   "outputs": [],
   "source": [
    "def cam_can_model_builder(hp):\n",
    "\n",
    "    # input: 3+D tensor with shape: batch_shape + (steps, input_dim)\n",
    "    # output: 3+D tensor with shape: batch_shape + (new_steps, filters) steps value might have changed due to padding or strides.\n",
    "    model = Sequential()\n",
    "    \n",
    "    filters1 = hp.Int('filters1', min_value=32, max_value=512, step=32)\n",
    "    model.add(Dense(filters1, activation='relu', \n",
    "                    input_shape=X_train_reshaped.shape[1:]))\n",
    "    \n",
    "    filters2 = hp.Int('filters2', min_value=32, max_value=512, step=32)\n",
    "    kernel1 = hp.Int('kernel1', min_value=1, max_value=4, step=1)\n",
    "    model.add(Conv1D(filters2, kernel_size=kernel1, activation='relu'))\n",
    "    \n",
    "    model.add(MaxPool1D(pool_size=2,padding='same'))\n",
    "    \n",
    "    filters3 = hp.Int('filters3', min_value=32, max_value=512, step=32)\n",
    "    kernel2 = hp.Int('kernel2', min_value=1, max_value=4, step=1)\n",
    "    model.add(Conv1D(filters3, kernel_size=kernel2, activation='relu'))\n",
    "    \n",
    "    model.add(MaxPool1D(pool_size=2,padding='same'))\n",
    "    \n",
    "    filters4 = hp.Int('filters4', min_value=32, max_value=512, step=32)\n",
    "    kernel3 = hp.Int('kernel3', min_value=1, max_value=4, step=1)\n",
    "    model.add(Conv1D(filters4, kernel_size=kernel3, activation='relu'))\n",
    "    \n",
    "    model.add(MaxPool1D(pool_size=2,padding='same'))\n",
    "    \n",
    "    filters5 = hp.Int('filters5', min_value=32, max_value=512, step=32)\n",
    "    kernel4 = hp.Int('kernel4', min_value=1, max_value=4, step=1)\n",
    "    model.add(Conv1D(filters5, kernel_size=kernel4, activation='relu'))\n",
    "    \n",
    "    model.add(MaxPool1D(pool_size=2,padding='same'))\n",
    "    \n",
    "    filters6 = hp.Int('filters6', min_value=32, max_value=512, step=32)\n",
    "    kernel5 = hp.Int('kernel5', min_value=1, max_value=4, step=1)\n",
    "    model.add(Conv1D(filters6, kernel_size=kernel5, activation='relu'))\n",
    "    \n",
    "    model.add(MaxPool1D(pool_size=2,padding='same'))\n",
    "    model.add(Dropout(0.25))\n",
    "    model.add(Flatten())\n",
    "    \n",
    "    filters7 = hp.Int('filters7', min_value=32, max_value=512, step=32)\n",
    "    model.add(Dense(filters7, activation='relu'))\n",
    "    model.add(Dropout(0.25))\n",
    "    model.add(Dense(64, activation='relu'))\n",
    "    model.add(Dense(1, activation='linear'))\n",
    "\n",
    "    model.compile(loss='mean_squared_error',optimizer='adam',metrics=['mean_squared_error'])\n",
    "    return model"
   ]
  },
  {
   "cell_type": "code",
   "execution_count": null,
   "id": "southeast-reproduction",
   "metadata": {},
   "outputs": [],
   "source": [
    "cam_can_tuner = kt.Hyperband(cam_can_model_builder,\n",
    "                             objective='mean_squared_error',\n",
    "                             max_epochs=5,\n",
    "                             factor=3,\n",
    "                             overwrite=True)"
   ]
  },
  {
   "cell_type": "code",
   "execution_count": null,
   "id": "furnished-north",
   "metadata": {},
   "outputs": [],
   "source": [
    "#callback = EarlyStopping(monitor='loss', patience=10)\n",
    "cam_can_tuner.search(X_train_reshaped, y_train, epochs=50, validation_split=0.2)\n",
    "\n",
    "# Get the optimal hyperparameters\n",
    "best_hps=cam_can_tuner.get_best_hyperparameters(num_trials=1)[0]"
   ]
  },
  {
   "cell_type": "code",
   "execution_count": null,
   "id": "quiet-corporation",
   "metadata": {
    "tags": []
   },
   "outputs": [],
   "source": [
    "# Build the model with the optimal hyperparameters and train it on the data for 50 epochs\n",
    "model = cam_can_tuner.hypermodel.build(best_hps)"
   ]
  },
  {
   "cell_type": "code",
   "execution_count": null,
   "id": "systematic-removal",
   "metadata": {},
   "outputs": [],
   "source": [
    "from tensorflow.keras.callbacks import ModelCheckpoint"
   ]
  },
  {
   "cell_type": "code",
   "execution_count": null,
   "id": "hourly-welsh",
   "metadata": {
    "tags": []
   },
   "outputs": [],
   "source": [
    "#history = model.fit(X_train_reshaped, y_train, epochs=50, validation_split=0.2)\n",
    "\n",
    "#mse_per_epoch = history.history['mean_squared_error']\n",
    "#best_epoch = mse_per_epoch.index(min(mse_per_epoch)) + 1\n",
    "#print('Best epoch: %d' % (best_epoch,))\n",
    "import os.path as op\n",
    "weights_path = op.join(\"train\", 'weights.hdf5')\n",
    "model_checkpoint_callback = ModelCheckpoint(filepath=weights_path,\n",
    "                                            monitor='val_loss',\n",
    "                                            mode='auto',\n",
    "                                            save_best_only=True,\n",
    "                                            save_weights_only=True,\n",
    "                                            verbose=True)\n",
    "\n",
    "# Fitting model using model checkpoint callback to find best model which is saved to 'weights'\n",
    "model.fit(X_train_reshaped, y_train, epochs=50, callbacks=[model_checkpoint_callback], validation_split=0.2)        "
   ]
  },
  {
   "cell_type": "code",
   "execution_count": null,
   "id": "defensive-miami",
   "metadata": {},
   "outputs": [],
   "source": [
    "model.load_weights(weights_path)"
   ]
  },
  {
   "cell_type": "code",
   "execution_count": null,
   "id": "geographic-driver",
   "metadata": {
    "tags": []
   },
   "outputs": [],
   "source": [
    "#hypermodel = cam_can_tuner.hypermodel.build(best_hps)\n",
    "\n",
    "# Retrain the model\n",
    "#hypermodel.fit(X_train_reshaped, y_train, epochs=best_epoch, validation_split=0.2)"
   ]
  },
  {
   "cell_type": "code",
   "execution_count": null,
   "id": "banner-blast",
   "metadata": {},
   "outputs": [],
   "source": [
    "y_hat = model.predict(X_train_reshaped)\n",
    "plt.plot(y_train, y_hat, linestyle=\"\", marker=\".\")\n",
    "plt.plot([20, 70], [20, 70])"
   ]
  },
  {
   "cell_type": "code",
   "execution_count": null,
   "id": "union-investor",
   "metadata": {},
   "outputs": [],
   "source": [
    "y_hat = model.predict(X_test_reshaped)\n",
    "plt.plot(y_test, y_hat, linestyle=\"\", marker=\".\")\n",
    "plt.plot([20, 70], [20, 70])\n",
    "plt.xlabel(\"X axis label\")\n",
    "plt.ylabel(\"Y axis label\")"
   ]
  },
  {
   "cell_type": "code",
   "execution_count": null,
   "id": "charged-boost",
   "metadata": {},
   "outputs": [],
   "source": [
    "r2_score(y_test, y_hat)"
   ]
  },
  {
   "cell_type": "code",
   "execution_count": null,
   "id": "pressing-jacksonville",
   "metadata": {},
   "outputs": [],
   "source": []
  }
 ],
 "metadata": {
  "kernelspec": {
   "display_name": "Python 3 (ipykernel)",
   "language": "python",
   "name": "python3"
  },
  "language_info": {
   "codemirror_mode": {
    "name": "ipython",
    "version": 3
   },
   "file_extension": ".py",
   "mimetype": "text/x-python",
   "name": "python",
   "nbconvert_exporter": "python",
   "pygments_lexer": "ipython3",
   "version": "3.8.8"
  }
 },
 "nbformat": 4,
 "nbformat_minor": 5
}
