{
 "cells": [
  {
   "cell_type": "code",
   "execution_count": null,
   "id": "prepared-seven",
   "metadata": {},
   "outputs": [],
   "source": [
    "import afqinsight as afq"
   ]
  },
  {
   "cell_type": "code",
   "execution_count": null,
   "id": "hydraulic-compact",
   "metadata": {},
   "outputs": [],
   "source": [
    "import numpy as np\n",
    "import pandas as pd\n",
    "from sklearn.model_selection import cross_val_score, train_test_split"
   ]
  },
  {
   "cell_type": "code",
   "execution_count": null,
   "id": "color-description",
   "metadata": {},
   "outputs": [],
   "source": [
    "pwd"
   ]
  },
  {
   "cell_type": "code",
   "execution_count": null,
   "id": "becoming-moral",
   "metadata": {},
   "outputs": [],
   "source": [
    "results = afq.datasets.load_afq_data(\n",
    "    workdir=\"../data/\",\n",
    "    dwi_metrics=[\"dki_md\", \"dki_fa\"],\n",
    "    target_cols=[\"age\"],\n",
    "    index_col=\"Observations\",\n",
    "    fn_nodes=\"nodes.csv\",\n",
    "    fn_subjects=\"participant_data.tsv\",\n",
    ")"
   ]
  },
  {
   "cell_type": "code",
   "execution_count": null,
   "id": "c51145cc",
   "metadata": {},
   "outputs": [],
   "source": [
    "X, y = results.X, results.y"
   ]
  },
  {
   "cell_type": "code",
   "execution_count": null,
   "id": "geological-amplifier",
   "metadata": {},
   "outputs": [],
   "source": [
    "X.shape, y.shape"
   ]
  },
  {
   "cell_type": "code",
   "execution_count": null,
   "id": "mechanical-universe",
   "metadata": {},
   "outputs": [],
   "source": [
    "nan_mask = np.logical_not(np.isnan(y))\n",
    "y = y[nan_mask]\n",
    "X = X[nan_mask, :]"
   ]
  },
  {
   "cell_type": "code",
   "execution_count": null,
   "id": "7ef8d7cb",
   "metadata": {},
   "outputs": [],
   "source": [
    "X.shape, y.shape"
   ]
  },
  {
   "cell_type": "code",
   "execution_count": null,
   "id": "anonymous-surrey",
   "metadata": {},
   "outputs": [],
   "source": [
    "X_train, X_test, y_train, y_test = train_test_split(X, y)"
   ]
  },
  {
   "cell_type": "code",
   "execution_count": null,
   "id": "69108790",
   "metadata": {},
   "outputs": [],
   "source": [
    "from afqinsight.cnn import CNN"
   ]
  },
  {
   "cell_type": "code",
   "execution_count": null,
   "id": "e43b9616",
   "metadata": {},
   "outputs": [],
   "source": [
    "my_cnn = CNN(n_nodes=100, n_channels=36, tuner_type=\"hyperband\", layers=1)"
   ]
  },
  {
   "cell_type": "code",
   "execution_count": null,
   "id": "3befb7f8",
   "metadata": {},
   "outputs": [],
   "source": [
    "my_cnn.fit(X_train, y_train)"
   ]
  },
  {
   "cell_type": "code",
   "execution_count": null,
   "id": "e933cc8e",
   "metadata": {},
   "outputs": [],
   "source": [
    "import matplotlib.pyplot as plt"
   ]
  },
  {
   "cell_type": "code",
   "execution_count": null,
   "id": "banner-blast",
   "metadata": {},
   "outputs": [],
   "source": [
    "y_hat = my_cnn.predict(X_train)\n",
    "plt.plot(y_train, y_hat, linestyle=\"\", marker=\".\")\n",
    "plt.plot([20, 70], [20, 70])"
   ]
  },
  {
   "cell_type": "code",
   "execution_count": null,
   "id": "union-investor",
   "metadata": {},
   "outputs": [],
   "source": [
    "y_hat = my_cnn.predict(X_test)\n",
    "plt.plot(y_test, y_hat, linestyle=\"\", marker=\".\")\n",
    "plt.plot([20, 70], [20, 70])\n",
    "plt.xlabel(\"X axis label\")\n",
    "plt.ylabel(\"Y axis label\")"
   ]
  },
  {
   "cell_type": "code",
   "execution_count": null,
   "id": "981c3312",
   "metadata": {},
   "outputs": [],
   "source": [
    "from sklearn.metrics import r2_score"
   ]
  },
  {
   "cell_type": "code",
   "execution_count": null,
   "id": "charged-boost",
   "metadata": {},
   "outputs": [],
   "source": [
    "r2_score(y_test, y_hat)"
   ]
  },
  {
   "cell_type": "code",
   "execution_count": null,
   "id": "15a17258",
   "metadata": {},
   "outputs": [],
   "source": [
    "from tensorflow.keras import backend as K"
   ]
  },
  {
   "cell_type": "code",
   "execution_count": null,
   "id": "0e792fbf",
   "metadata": {},
   "outputs": [],
   "source": [
    "layer = my_cnn.model_.layers[0]"
   ]
  },
  {
   "cell_type": "code",
   "execution_count": null,
   "id": "7c76acd5",
   "metadata": {},
   "outputs": [],
   "source": [
    "layer_output = layer.output"
   ]
  },
  {
   "cell_type": "code",
   "execution_count": null,
   "id": "5b4fb665",
   "metadata": {},
   "outputs": [],
   "source": [
    "fn = K.function([my_cnn.model_.input], [layer_output])"
   ]
  },
  {
   "cell_type": "code",
   "execution_count": null,
   "id": "bd3466e2",
   "metadata": {},
   "outputs": [],
   "source": [
    "inp = X_train[0:1].reshape((-1, 100, 36))"
   ]
  },
  {
   "cell_type": "code",
   "execution_count": null,
   "id": "5f5fbd55",
   "metadata": {},
   "outputs": [],
   "source": [
    "this_hidden = fn([inp])[0]"
   ]
  },
  {
   "cell_type": "code",
   "execution_count": null,
   "id": "2963d2b7",
   "metadata": {},
   "outputs": [],
   "source": [
    "plt.plot(this_hidden[0, 0])"
   ]
  },
  {
   "cell_type": "code",
   "execution_count": null,
   "id": "584311d4",
   "metadata": {},
   "outputs": [],
   "source": [
    "    this_hidden = fn([inp])[0]\n",
    "    \n",
    "    # plot the activations from the first 8 filters\n",
    "    plt.figure(figsize=(15,8))\n",
    "    for i in range(8):\n",
    "        plt.subplot(1,8,i+1)\n",
    "        plt.imshow(this_hidden[0,:,:,i], plt.cm.Greys_r)\n",
    "        plt.axis('off')\n",
    "    \n",
    "    return"
   ]
  },
  {
   "cell_type": "code",
   "execution_count": null,
   "id": "3496a1b9",
   "metadata": {},
   "outputs": [],
   "source": [
    "show_activation('conv1d')"
   ]
  },
  {
   "cell_type": "code",
   "execution_count": null,
   "id": "12a44203",
   "metadata": {},
   "outputs": [],
   "source": []
  }
 ],
 "metadata": {
  "kernelspec": {
   "display_name": "Python 3 (ipykernel)",
   "language": "python",
   "name": "python3"
  },
  "language_info": {
   "codemirror_mode": {
    "name": "ipython",
    "version": 3
   },
   "file_extension": ".py",
   "mimetype": "text/x-python",
   "name": "python",
   "nbconvert_exporter": "python",
   "pygments_lexer": "ipython3",
   "version": "3.8.8"
  }
 },
 "nbformat": 4,
 "nbformat_minor": 5
}
